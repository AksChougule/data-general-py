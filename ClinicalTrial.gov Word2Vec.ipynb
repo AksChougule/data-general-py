{
 "cells": [
  {
   "cell_type": "code",
   "execution_count": 83,
   "metadata": {},
   "outputs": [],
   "source": [
    "import re\n",
    "import gensim\n",
    "from gensim import corpora, models, similarities\n",
    "import nltk\n",
    "import pandas as pd\n",
    "import os\n",
    "import codecs\n",
    "import gensim.models.word2vec as w2v"
   ]
  },
  {
   "cell_type": "code",
   "execution_count": 2,
   "metadata": {},
   "outputs": [],
   "source": [
    "#Fungsi untuk membangun model Word2Vec\n",
    "def getWord2Vec(toFeed, dim=50):\n",
    "    return gensim.models.Word2Vec(toFeed, min_count=1,  size=dim)"
   ]
  },
  {
   "cell_type": "code",
   "execution_count": 15,
   "metadata": {},
   "outputs": [],
   "source": [
    "corpus = pd.read_csv(\"~/datasets/Kaggle/competitions/clinicaltrials/labeledEligibilitySample1000000.csv\", \n",
    "                     sep='\\t',\n",
    "                     error_bad_lines=False,\n",
    "                     header=None)"
   ]
  },
  {
   "cell_type": "code",
   "execution_count": 16,
   "metadata": {},
   "outputs": [
    {
     "data": {
      "text/plain": [
       "1000000"
      ]
     },
     "execution_count": 16,
     "metadata": {},
     "output_type": "execute_result"
    }
   ],
   "source": [
    "len(corpus)"
   ]
  },
  {
   "cell_type": "code",
   "execution_count": 23,
   "metadata": {},
   "outputs": [
    {
     "data": {
      "text/html": [
       "<div>\n",
       "<style scoped>\n",
       "    .dataframe tbody tr th:only-of-type {\n",
       "        vertical-align: middle;\n",
       "    }\n",
       "\n",
       "    .dataframe tbody tr th {\n",
       "        vertical-align: top;\n",
       "    }\n",
       "\n",
       "    .dataframe thead th {\n",
       "        text-align: right;\n",
       "    }\n",
       "</style>\n",
       "<table border=\"1\" class=\"dataframe\">\n",
       "  <thead>\n",
       "    <tr style=\"text-align: right;\">\n",
       "      <th></th>\n",
       "      <th>0</th>\n",
       "      <th>1</th>\n",
       "    </tr>\n",
       "  </thead>\n",
       "  <tbody>\n",
       "    <tr>\n",
       "      <th>0</th>\n",
       "      <td>__label__0</td>\n",
       "      <td>study interventions are recombinant CD40-ligan...</td>\n",
       "    </tr>\n",
       "    <tr>\n",
       "      <th>1</th>\n",
       "      <td>__label__0</td>\n",
       "      <td>study interventions are Liposomal doxorubicin ...</td>\n",
       "    </tr>\n",
       "    <tr>\n",
       "      <th>2</th>\n",
       "      <td>__label__0</td>\n",
       "      <td>study interventions are BI 836909 . multiple m...</td>\n",
       "    </tr>\n",
       "    <tr>\n",
       "      <th>3</th>\n",
       "      <td>__label__0</td>\n",
       "      <td>study interventions are Immunoglobulins . recu...</td>\n",
       "    </tr>\n",
       "    <tr>\n",
       "      <th>4</th>\n",
       "      <td>__label__0</td>\n",
       "      <td>study interventions are Paclitaxel . stage ova...</td>\n",
       "    </tr>\n",
       "  </tbody>\n",
       "</table>\n",
       "</div>"
      ],
      "text/plain": [
       "            0                                                  1\n",
       "0  __label__0  study interventions are recombinant CD40-ligan...\n",
       "1  __label__0  study interventions are Liposomal doxorubicin ...\n",
       "2  __label__0  study interventions are BI 836909 . multiple m...\n",
       "3  __label__0  study interventions are Immunoglobulins . recu...\n",
       "4  __label__0  study interventions are Paclitaxel . stage ova..."
      ]
     },
     "execution_count": 23,
     "metadata": {},
     "output_type": "execute_result"
    }
   ],
   "source": [
    "corpus.head()"
   ]
  },
  {
   "cell_type": "code",
   "execution_count": 29,
   "metadata": {},
   "outputs": [],
   "source": [
    "corpus.iloc[:,1].head()\n",
    "corpus_data= pd.DataFrame(corpus.iloc[:,1])"
   ]
  },
  {
   "cell_type": "code",
   "execution_count": 43,
   "metadata": {},
   "outputs": [
    {
     "data": {
      "text/plain": [
       "((1000000, 2), pandas.core.frame.DataFrame)"
      ]
     },
     "execution_count": 43,
     "metadata": {},
     "output_type": "execute_result"
    }
   ],
   "source": [
    "corpus.shape, type(corpus)"
   ]
  },
  {
   "cell_type": "code",
   "execution_count": 50,
   "metadata": {},
   "outputs": [
    {
     "data": {
      "text/html": [
       "<div>\n",
       "<style scoped>\n",
       "    .dataframe tbody tr th:only-of-type {\n",
       "        vertical-align: middle;\n",
       "    }\n",
       "\n",
       "    .dataframe tbody tr th {\n",
       "        vertical-align: top;\n",
       "    }\n",
       "\n",
       "    .dataframe thead th {\n",
       "        text-align: right;\n",
       "    }\n",
       "</style>\n",
       "<table border=\"1\" class=\"dataframe\">\n",
       "  <thead>\n",
       "    <tr style=\"text-align: right;\">\n",
       "      <th></th>\n",
       "      <th>label</th>\n",
       "      <th>text</th>\n",
       "    </tr>\n",
       "  </thead>\n",
       "  <tbody>\n",
       "    <tr>\n",
       "      <th>0</th>\n",
       "      <td>__label__0</td>\n",
       "      <td>study interventions are recombinant CD40-ligan...</td>\n",
       "    </tr>\n",
       "    <tr>\n",
       "      <th>1</th>\n",
       "      <td>__label__0</td>\n",
       "      <td>study interventions are Liposomal doxorubicin ...</td>\n",
       "    </tr>\n",
       "    <tr>\n",
       "      <th>2</th>\n",
       "      <td>__label__0</td>\n",
       "      <td>study interventions are BI 836909 . multiple m...</td>\n",
       "    </tr>\n",
       "    <tr>\n",
       "      <th>3</th>\n",
       "      <td>__label__0</td>\n",
       "      <td>study interventions are Immunoglobulins . recu...</td>\n",
       "    </tr>\n",
       "    <tr>\n",
       "      <th>4</th>\n",
       "      <td>__label__0</td>\n",
       "      <td>study interventions are Paclitaxel . stage ova...</td>\n",
       "    </tr>\n",
       "  </tbody>\n",
       "</table>\n",
       "</div>"
      ],
      "text/plain": [
       "        label                                               text\n",
       "0  __label__0  study interventions are recombinant CD40-ligan...\n",
       "1  __label__0  study interventions are Liposomal doxorubicin ...\n",
       "2  __label__0  study interventions are BI 836909 . multiple m...\n",
       "3  __label__0  study interventions are Immunoglobulins . recu...\n",
       "4  __label__0  study interventions are Paclitaxel . stage ova..."
      ]
     },
     "execution_count": 50,
     "metadata": {},
     "output_type": "execute_result"
    }
   ],
   "source": [
    "corpus.columns = ['label','text']\n",
    "corpus.head()"
   ]
  },
  {
   "cell_type": "code",
   "execution_count": 53,
   "metadata": {},
   "outputs": [
    {
     "data": {
      "text/html": [
       "<div>\n",
       "<style scoped>\n",
       "    .dataframe tbody tr th:only-of-type {\n",
       "        vertical-align: middle;\n",
       "    }\n",
       "\n",
       "    .dataframe tbody tr th {\n",
       "        vertical-align: top;\n",
       "    }\n",
       "\n",
       "    .dataframe thead th {\n",
       "        text-align: right;\n",
       "    }\n",
       "</style>\n",
       "<table border=\"1\" class=\"dataframe\">\n",
       "  <thead>\n",
       "    <tr style=\"text-align: right;\">\n",
       "      <th></th>\n",
       "      <th>label</th>\n",
       "      <th>text</th>\n",
       "    </tr>\n",
       "  </thead>\n",
       "  <tbody>\n",
       "    <tr>\n",
       "      <th>0</th>\n",
       "      <td>__label__0</td>\n",
       "      <td>study interventions are recombinant CD40-ligan...</td>\n",
       "    </tr>\n",
       "    <tr>\n",
       "      <th>1</th>\n",
       "      <td>__label__1</td>\n",
       "      <td>study interventions are Prednisone . patients ...</td>\n",
       "    </tr>\n",
       "  </tbody>\n",
       "</table>\n",
       "</div>"
      ],
      "text/plain": [
       "        label                                               text\n",
       "0  __label__0  study interventions are recombinant CD40-ligan...\n",
       "1  __label__1  study interventions are Prednisone . patients ..."
      ]
     },
     "execution_count": 53,
     "metadata": {},
     "output_type": "execute_result"
    }
   ],
   "source": [
    "corpus_blob = corpus.groupby('label')['text'].apply(' '.join).reset_index()\n",
    "corpus_blob"
   ]
  },
  {
   "cell_type": "code",
   "execution_count": 75,
   "metadata": {},
   "outputs": [
    {
     "data": {
      "text/plain": [
       "(83466072,\n",
       " 'study interventions are recombinant CD40-ligand . melanoma skin diagnosis and no active cns metastases by ct scan or mri study interventions are Liposomal doxorubicin . colorectal cancer diagnosis and cardiovascular study interventions are BI 836909 . multiple myeloma diagnosis and indwelling central venous cateder or willingness to undergo intra venous central line placement study interventions are Immunoglobulins . recurrent fallopian tube carcinoma diagnosis and patients are allowed to receiv')"
      ]
     },
     "execution_count": 75,
     "metadata": {},
     "output_type": "execute_result"
    }
   ],
   "source": [
    "inclusion_criteria_0 = corpus_blob['text'][0]\n",
    "len(inclusion_criteria_0),inclusion_criteria_0[0:500]"
   ]
  },
  {
   "cell_type": "code",
   "execution_count": 115,
   "metadata": {},
   "outputs": [],
   "source": [
    "inclusion_criteria = corpus['text']"
   ]
  },
  {
   "cell_type": "code",
   "execution_count": 116,
   "metadata": {},
   "outputs": [],
   "source": [
    "stoplist = set('for a of the and to in is at an must be with are but not no none has have other from as prior or except none'.split())\n",
    "texts = [[word for word in inclusion_criteria.split() if word not in stoplist]\n",
    "         for inclusion_criteria in inclusion_criteria]"
   ]
  },
  {
   "cell_type": "code",
   "execution_count": 120,
   "metadata": {},
   "outputs": [
    {
     "data": {
      "text/plain": [
       "[['study',\n",
       "  'interventions',\n",
       "  'recombinant',\n",
       "  'CD40-ligand',\n",
       "  '.',\n",
       "  'melanoma',\n",
       "  'skin',\n",
       "  'diagnosis',\n",
       "  'active',\n",
       "  'cns',\n",
       "  'metastases',\n",
       "  'by',\n",
       "  'ct',\n",
       "  'scan',\n",
       "  'mri'],\n",
       " ['study',\n",
       "  'interventions',\n",
       "  'Liposomal',\n",
       "  'doxorubicin',\n",
       "  '.',\n",
       "  'colorectal',\n",
       "  'cancer',\n",
       "  'diagnosis',\n",
       "  'cardiovascular'],\n",
       " ['study',\n",
       "  'interventions',\n",
       "  'BI',\n",
       "  '836909',\n",
       "  '.',\n",
       "  'multiple',\n",
       "  'myeloma',\n",
       "  'diagnosis',\n",
       "  'indwelling',\n",
       "  'central',\n",
       "  'venous',\n",
       "  'cateder',\n",
       "  'willingness',\n",
       "  'undergo',\n",
       "  'intra',\n",
       "  'venous',\n",
       "  'central',\n",
       "  'line',\n",
       "  'placement'],\n",
       " ['study',\n",
       "  'interventions',\n",
       "  'Immunoglobulins',\n",
       "  '.',\n",
       "  'recurrent',\n",
       "  'fallopian',\n",
       "  'tube',\n",
       "  'carcinoma',\n",
       "  'diagnosis',\n",
       "  'patients',\n",
       "  'allowed',\n",
       "  'receive',\n",
       "  'required',\n",
       "  'receive',\n",
       "  'two',\n",
       "  'additional',\n",
       "  'cytotoxic',\n",
       "  'regimens',\n",
       "  'management',\n",
       "  'recurrent',\n",
       "  'persistent',\n",
       "  'disease',\n",
       "  'more',\n",
       "  'than',\n",
       "  'one',\n",
       "  'non',\n",
       "  'platinum',\n",
       "  'non',\n",
       "  'taxane',\n",
       "  'regimen'],\n",
       " ['study',\n",
       "  'interventions',\n",
       "  'Paclitaxel',\n",
       "  '.',\n",
       "  'stage',\n",
       "  'ovarian',\n",
       "  'cancer',\n",
       "  'diagnosis',\n",
       "  'patients',\n",
       "  'recovered',\n",
       "  'effects',\n",
       "  'recent',\n",
       "  'surgery',\n",
       "  'radiotherapy',\n",
       "  'therapy'],\n",
       " ['study',\n",
       "  'interventions',\n",
       "  'Antibodies,',\n",
       "  'Monoclonal',\n",
       "  '.',\n",
       "  'recurrent',\n",
       "  'verrucous',\n",
       "  'carcinoma',\n",
       "  'oral',\n",
       "  'cavity',\n",
       "  'diagnosis',\n",
       "  'undergone',\n",
       "  'radiotherapy',\n",
       "  'component',\n",
       "  'treatment'],\n",
       " ['study',\n",
       "  'interventions',\n",
       "  'Hormones',\n",
       "  '.',\n",
       "  'prostate',\n",
       "  'cancer',\n",
       "  'diagnosis',\n",
       "  'imaging',\n",
       "  'examinations',\n",
       "  'including',\n",
       "  'emission',\n",
       "  'computed',\n",
       "  'tomography',\n",
       "  'ect',\n",
       "  'positron_emission',\n",
       "  'tomography',\n",
       "  'pet',\n",
       "  'computed',\n",
       "  'tomography',\n",
       "  'ct',\n",
       "  'magnetic',\n",
       "  'resonance',\n",
       "  'imaging',\n",
       "  'mri',\n",
       "  'revealed',\n",
       "  'non',\n",
       "  'regional',\n",
       "  'lymph',\n",
       "  'node',\n",
       "  'metastasis',\n",
       "  'bone',\n",
       "  'metastasis',\n",
       "  'visceral',\n",
       "  'metastasis'],\n",
       " ['study',\n",
       "  'interventions',\n",
       "  'Bendamustine',\n",
       "  'Hydrochloride',\n",
       "  '.',\n",
       "  'diffuse',\n",
       "  'large',\n",
       "  'cell',\n",
       "  'lymphoma',\n",
       "  'diagnosis',\n",
       "  'previous',\n",
       "  'treatment'],\n",
       " ['study',\n",
       "  'interventions',\n",
       "  'Nivolumab',\n",
       "  '.',\n",
       "  'recovered',\n",
       "  'all',\n",
       "  'toxicities',\n",
       "  'associated',\n",
       "  'treatment',\n",
       "  'acceptable',\n",
       "  'baseline',\n",
       "  'status',\n",
       "  'laboratory',\n",
       "  'toxicity',\n",
       "  'see',\n",
       "  'below',\n",
       "  'limits',\n",
       "  'inclusion',\n",
       "  'national',\n",
       "  'cancer',\n",
       "  'institute',\n",
       "  'common',\n",
       "  'terminology',\n",
       "  'criteria',\n",
       "  'adverse',\n",
       "  'events',\n",
       "  'nci',\n",
       "  'ctcae',\n",
       "  'version',\n",
       "  'doc',\n",
       "  'three',\n",
       "  'grade',\n",
       "  'zero',\n",
       "  'one',\n",
       "  'toxicities',\n",
       "  'considered',\n",
       "  'safety',\n",
       "  'risk',\n",
       "  'alopecia',\n",
       "  'vitiligo'],\n",
       " ['study',\n",
       "  'interventions',\n",
       "  'Thalidomide',\n",
       "  '.',\n",
       "  'kidney',\n",
       "  'cancer',\n",
       "  'diagnosis',\n",
       "  'diabetes',\n",
       "  'mellitus']]"
      ]
     },
     "execution_count": 120,
     "metadata": {},
     "output_type": "execute_result"
    }
   ],
   "source": [
    "texts[0:10]"
   ]
  },
  {
   "cell_type": "code",
   "execution_count": 121,
   "metadata": {},
   "outputs": [
    {
     "ename": "AttributeError",
     "evalue": "'list' object has no attribute 'values'",
     "output_type": "error",
     "traceback": [
      "\u001b[0;31m---------------------------------------------------------------------------\u001b[0m",
      "\u001b[0;31mAttributeError\u001b[0m                            Traceback (most recent call last)",
      "\u001b[0;32m<ipython-input-121-574e26d6441a>\u001b[0m in \u001b[0;36m<module>\u001b[0;34m()\u001b[0m\n\u001b[0;32m----> 1\u001b[0;31m \u001b[0minclusion_criteria\u001b[0m \u001b[0;34m=\u001b[0m \u001b[0mtexts\u001b[0m\u001b[0;34m.\u001b[0m\u001b[0mvalues\u001b[0m\u001b[0;34m.\u001b[0m\u001b[0mtolist\u001b[0m\u001b[0;34m(\u001b[0m\u001b[0;34m)\u001b[0m\u001b[0;34m\u001b[0m\u001b[0m\n\u001b[0m\u001b[1;32m      2\u001b[0m \u001b[0mlen\u001b[0m\u001b[0;34m(\u001b[0m\u001b[0minclusion_criteria\u001b[0m\u001b[0;34m)\u001b[0m\u001b[0;34m,\u001b[0m\u001b[0minclusion_criteria\u001b[0m\u001b[0;34m[\u001b[0m\u001b[0;36m0\u001b[0m\u001b[0;34m:\u001b[0m\u001b[0;36m500\u001b[0m\u001b[0;34m]\u001b[0m\u001b[0;34m\u001b[0m\u001b[0m\n",
      "\u001b[0;31mAttributeError\u001b[0m: 'list' object has no attribute 'values'"
     ]
    }
   ],
   "source": [
    "inclusion_criteria = texts.values.tolist()\n",
    "len(inclusion_criteria),inclusion_criteria[0:500]"
   ]
  },
  {
   "cell_type": "code",
   "execution_count": 110,
   "metadata": {},
   "outputs": [
    {
     "data": {
      "text/plain": [
       "(1000000,\n",
       " [['study',\n",
       "   'interventions',\n",
       "   'Liposomal',\n",
       "   'doxorubicin',\n",
       "   '.',\n",
       "   'colorectal',\n",
       "   'cancer',\n",
       "   'diagnosis',\n",
       "   'cardiovascular'],\n",
       "  ['study',\n",
       "   'interventions',\n",
       "   'BI',\n",
       "   '836909',\n",
       "   '.',\n",
       "   'multiple',\n",
       "   'myeloma',\n",
       "   'diagnosis',\n",
       "   'indwelling',\n",
       "   'central',\n",
       "   'venous',\n",
       "   'cateder',\n",
       "   'willingness',\n",
       "   'undergo',\n",
       "   'intra',\n",
       "   'venous',\n",
       "   'central',\n",
       "   'line',\n",
       "   'placement'],\n",
       "  ['study',\n",
       "   'interventions',\n",
       "   'Immunoglobulins',\n",
       "   '.',\n",
       "   'recurrent',\n",
       "   'fallopian',\n",
       "   'tube',\n",
       "   'carcinoma',\n",
       "   'diagnosis',\n",
       "   'patients',\n",
       "   'allowed',\n",
       "   'receive',\n",
       "   'required',\n",
       "   'receive',\n",
       "   'two',\n",
       "   'additional',\n",
       "   'cytotoxic',\n",
       "   'regimens',\n",
       "   'management',\n",
       "   'recurrent',\n",
       "   'persistent',\n",
       "   'disease',\n",
       "   'more',\n",
       "   'than',\n",
       "   'one',\n",
       "   'non',\n",
       "   'platinum',\n",
       "   'non',\n",
       "   'taxane',\n",
       "   'regimen'],\n",
       "  ['study',\n",
       "   'interventions',\n",
       "   'Paclitaxel',\n",
       "   '.',\n",
       "   'stage',\n",
       "   'ovarian',\n",
       "   'cancer',\n",
       "   'diagnosis',\n",
       "   'patients',\n",
       "   'recovered',\n",
       "   'effects',\n",
       "   'recent',\n",
       "   'surgery',\n",
       "   'radiotherapy',\n",
       "   'therapy'],\n",
       "  ['study',\n",
       "   'interventions',\n",
       "   'Antibodies,',\n",
       "   'Monoclonal',\n",
       "   '.',\n",
       "   'recurrent',\n",
       "   'verrucous',\n",
       "   'carcinoma',\n",
       "   'oral',\n",
       "   'cavity',\n",
       "   'diagnosis',\n",
       "   'undergone',\n",
       "   'radiotherapy',\n",
       "   'component',\n",
       "   'treatment'],\n",
       "  ['study',\n",
       "   'interventions',\n",
       "   'Hormones',\n",
       "   '.',\n",
       "   'prostate',\n",
       "   'cancer',\n",
       "   'diagnosis',\n",
       "   'imaging',\n",
       "   'examinations',\n",
       "   'including',\n",
       "   'emission',\n",
       "   'computed',\n",
       "   'tomography',\n",
       "   'ect',\n",
       "   'positron_emission',\n",
       "   'tomography',\n",
       "   'pet',\n",
       "   'computed',\n",
       "   'tomography',\n",
       "   'ct',\n",
       "   'magnetic',\n",
       "   'resonance',\n",
       "   'imaging',\n",
       "   'mri',\n",
       "   'revealed',\n",
       "   'non',\n",
       "   'regional',\n",
       "   'lymph',\n",
       "   'node',\n",
       "   'metastasis',\n",
       "   'bone',\n",
       "   'metastasis',\n",
       "   'visceral',\n",
       "   'metastasis'],\n",
       "  ['study',\n",
       "   'interventions',\n",
       "   'Bendamustine',\n",
       "   'Hydrochloride',\n",
       "   '.',\n",
       "   'diffuse',\n",
       "   'large',\n",
       "   'cell',\n",
       "   'lymphoma',\n",
       "   'diagnosis',\n",
       "   'previous',\n",
       "   'treatment'],\n",
       "  ['study',\n",
       "   'interventions',\n",
       "   'Nivolumab',\n",
       "   '.',\n",
       "   'recovered',\n",
       "   'all',\n",
       "   'toxicities',\n",
       "   'associated',\n",
       "   'treatment',\n",
       "   'acceptable',\n",
       "   'baseline',\n",
       "   'status',\n",
       "   'laboratory',\n",
       "   'toxicity',\n",
       "   'see',\n",
       "   'below',\n",
       "   'limits',\n",
       "   'inclusion',\n",
       "   'national',\n",
       "   'cancer',\n",
       "   'institute',\n",
       "   'common',\n",
       "   'terminology',\n",
       "   'criteria',\n",
       "   'adverse',\n",
       "   'events',\n",
       "   'nci',\n",
       "   'ctcae',\n",
       "   'version',\n",
       "   'doc',\n",
       "   'three',\n",
       "   'grade',\n",
       "   'zero',\n",
       "   'one',\n",
       "   'toxicities',\n",
       "   'considered',\n",
       "   'safety',\n",
       "   'risk',\n",
       "   'alopecia',\n",
       "   'vitiligo'],\n",
       "  ['study',\n",
       "   'interventions',\n",
       "   'Thalidomide',\n",
       "   '.',\n",
       "   'kidney',\n",
       "   'cancer',\n",
       "   'diagnosis',\n",
       "   'diabetes',\n",
       "   'mellitus']])"
      ]
     },
     "execution_count": 110,
     "metadata": {},
     "output_type": "execute_result"
    }
   ],
   "source": [
    "len(texts), texts[1:10]"
   ]
  },
  {
   "cell_type": "code",
   "execution_count": 63,
   "metadata": {},
   "outputs": [
    {
     "name": "stdout",
     "output_type": "stream",
     "text": [
      "[nltk_data] Downloading package punkt to\n",
      "[nltk_data]     /Users/akshaychougule/nltk_data...\n",
      "[nltk_data]   Unzipping tokenizers/punkt.zip.\n",
      "[nltk_data] Downloading package stopwords to\n",
      "[nltk_data]     /Users/akshaychougule/nltk_data...\n",
      "[nltk_data]   Unzipping corpora/stopwords.zip.\n"
     ]
    },
    {
     "data": {
      "text/plain": [
       "True"
      ]
     },
     "execution_count": 63,
     "metadata": {},
     "output_type": "execute_result"
    }
   ],
   "source": [
    "nltk.download(\"punkt\")\n",
    "nltk.download(\"stopwords\")"
   ]
  },
  {
   "cell_type": "code",
   "execution_count": 111,
   "metadata": {},
   "outputs": [
    {
     "data": {
      "text/plain": [
       "list"
      ]
     },
     "execution_count": 111,
     "metadata": {},
     "output_type": "execute_result"
    }
   ],
   "source": [
    "type(texts)"
   ]
  },
  {
   "cell_type": "code",
   "execution_count": 122,
   "metadata": {},
   "outputs": [],
   "source": [
    "#f = codecs.open('C:\\Python26\\text.txt', 'r', 'utf-8-sig')\n",
    "#text = f.read()\n",
    "tok_corp = nltk.word_tokenize(str(texts))"
   ]
  },
  {
   "cell_type": "code",
   "execution_count": 114,
   "metadata": {},
   "outputs": [
    {
     "data": {
      "text/plain": [
       "(59485877,\n",
       " ['[',\n",
       "  \"'study\",\n",
       "  \"'\",\n",
       "  ',',\n",
       "  \"'interventions\",\n",
       "  \"'\",\n",
       "  ',',\n",
       "  \"'recombinant\",\n",
       "  \"'\",\n",
       "  ',',\n",
       "  \"'CD40-ligand\",\n",
       "  \"'\",\n",
       "  ',',\n",
       "  \"'\",\n",
       "  '.',\n",
       "  \"'\",\n",
       "  ',',\n",
       "  \"'melanoma\",\n",
       "  \"'\"])"
      ]
     },
     "execution_count": 114,
     "metadata": {},
     "output_type": "execute_result"
    }
   ],
   "source": [
    "len(tok_corp), tok_corp[1:20]"
   ]
  },
  {
   "cell_type": "code",
   "execution_count": 124,
   "metadata": {},
   "outputs": [],
   "source": [
    "ct2vec = w2v.Word2Vec(\n",
    "    texts,\n",
    "    workers=3,\n",
    "    size=100,\n",
    "    min_count=5,\n",
    "    window=5,\n",
    "    sample=1e-3,\n",
    ")"
   ]
  },
  {
   "cell_type": "code",
   "execution_count": 125,
   "metadata": {},
   "outputs": [
    {
     "name": "stdout",
     "output_type": "stream",
     "text": [
      "[ 1.0115347   1.996176   -3.0547388   0.1757077  -1.2841983   3.2444172\n",
      " -4.443465   -0.13637473  2.2183628  -0.03060763  0.58144134  5.198439\n",
      "  2.697748   -2.0510092   1.5133778  -0.08234689  1.0744412   1.1355784\n",
      " -1.6095499  -0.22257918  1.3326505  -2.2306838   1.4950866  -1.4847589\n",
      "  0.23418763  0.64909697  2.7352138  -1.657302   -3.7804391   0.18397163\n",
      " -3.2278097   4.22745     1.585811   -3.6379879   3.4386363  -2.901265\n",
      " -0.7544362  -1.4433676   1.1468799   0.47232136  0.95242745 -1.626939\n",
      " -1.2439122   1.3504711  -0.66758156  5.9319468  -0.11947972  1.8505406\n",
      " -2.6652834  -3.3176978  -3.5497081   3.377744   -2.9510145  -0.42378274\n",
      "  1.5605372  -0.338233   -1.2642208  -1.8639265  -2.4487686  -0.97635365\n",
      " -1.599603    0.15710193  3.4166036   1.8208599   2.9171405   0.02184244\n",
      "  3.6964858   1.4126037  -0.80628777 -0.35083935  0.24263956  0.537919\n",
      " -1.6473005   1.4782016  -1.3247566  -4.3163157   0.03546025  0.13299026\n",
      " -0.65219265  4.6102085   1.2400672  -0.78184205 -1.9304621   1.9131547\n",
      "  0.45033088 -0.28251836 -1.7225034  -1.9347035  -0.60826623 -1.9205909\n",
      "  1.5979502   2.261664   -0.6991999  -0.02552175  0.30401596  0.83966213\n",
      "  2.0869935  -1.0706848  -1.2485367  -0.6209363 ]\n"
     ]
    },
    {
     "name": "stderr",
     "output_type": "stream",
     "text": [
      "/Users/akshaychougule/anaconda2/envs/ds-book/lib/python3.6/site-packages/ipykernel_launcher.py:1: DeprecationWarning: Call to deprecated `__getitem__` (Method will be removed in 4.0.0, use self.wv.__getitem__() instead).\n",
      "  \"\"\"Entry point for launching an IPython kernel.\n"
     ]
    }
   ],
   "source": [
    "print(ct2vec['aml'])"
   ]
  },
  {
   "cell_type": "code",
   "execution_count": 126,
   "metadata": {},
   "outputs": [
    {
     "name": "stderr",
     "output_type": "stream",
     "text": [
      "/Users/akshaychougule/anaconda2/envs/ds-book/lib/python3.6/site-packages/ipykernel_launcher.py:1: DeprecationWarning: Call to deprecated `most_similar` (Method will be removed in 4.0.0, use self.wv.most_similar() instead).\n",
      "  \"\"\"Entry point for launching an IPython kernel.\n"
     ]
    },
    {
     "data": {
      "text/plain": [
       "[('mds', 0.7537376284599304),\n",
       " ('cml', 0.6268577575683594),\n",
       " ('myelodysplasia', 0.6225919723510742),\n",
       " ('mpn', 0.6106234192848206),\n",
       " ('mps', 0.5599762201309204),\n",
       " ('cll', 0.5290195941925049),\n",
       " ('rcmd', 0.5251673460006714),\n",
       " ('blast', 0.524329662322998),\n",
       " ('transformation', 0.5091052055358887),\n",
       " ('cmml', 0.49349966645240784)]"
      ]
     },
     "execution_count": 126,
     "metadata": {},
     "output_type": "execute_result"
    }
   ],
   "source": [
    "ct2vec.most_similar('aml')"
   ]
  },
  {
   "cell_type": "code",
   "execution_count": 128,
   "metadata": {},
   "outputs": [
    {
     "name": "stderr",
     "output_type": "stream",
     "text": [
      "/Users/akshaychougule/anaconda2/envs/ds-book/lib/python3.6/site-packages/ipykernel_launcher.py:1: DeprecationWarning: Call to deprecated `most_similar` (Method will be removed in 4.0.0, use self.wv.most_similar() instead).\n",
      "  \"\"\"Entry point for launching an IPython kernel.\n"
     ]
    },
    {
     "data": {
      "text/plain": [
       "[('Niacinamide', 0.9932081699371338),\n",
       " ('Sunitinib', 0.9272384643554688),\n",
       " ('Tremelimumab', 0.9055455327033997),\n",
       " ('Bevacizumab', 0.9002907276153564),\n",
       " ('Everolimus', 0.8966895341873169),\n",
       " ('Interferons', 0.8957058787345886),\n",
       " ('Interferon-alpha', 0.8900223970413208),\n",
       " ('Sirolimus', 0.8899325132369995),\n",
       " ('Vatalanib', 0.8746511936187744),\n",
       " ('Trebananib', 0.874604344367981)]"
      ]
     },
     "execution_count": 128,
     "metadata": {},
     "output_type": "execute_result"
    }
   ],
   "source": [
    "ct2vec.most_similar('Sorafenib')"
   ]
  },
  {
   "cell_type": "code",
   "execution_count": null,
   "metadata": {},
   "outputs": [],
   "source": []
  }
 ],
 "metadata": {
  "kernelspec": {
   "display_name": "Python 3",
   "language": "python",
   "name": "python3"
  },
  "language_info": {
   "codemirror_mode": {
    "name": "ipython",
    "version": 3
   },
   "file_extension": ".py",
   "mimetype": "text/x-python",
   "name": "python",
   "nbconvert_exporter": "python",
   "pygments_lexer": "ipython3",
   "version": "3.6.5"
  }
 },
 "nbformat": 4,
 "nbformat_minor": 2
}
